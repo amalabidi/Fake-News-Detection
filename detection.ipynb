{
  "nbformat": 4,
  "nbformat_minor": 0,
  "metadata": {
    "colab": {
      "name": "Untitled0.ipynb",
      "provenance": [],
      "collapsed_sections": []
    },
    "kernelspec": {
      "name": "python3",
      "display_name": "Python 3"
    },
    "language_info": {
      "name": "python"
    }
  },
  "cells": [
    {
      "cell_type": "code",
      "execution_count": 1,
      "metadata": {
        "colab": {
          "base_uri": "https://localhost:8080/"
        },
        "id": "wBK1OZvrAldd",
        "outputId": "ea2af1ad-77de-458b-dd87-5e064eeedb38"
      },
      "outputs": [
        {
          "output_type": "stream",
          "name": "stdout",
          "text": [
            "Mounted at /content/drive\n"
          ]
        }
      ],
      "source": [
        "from google.colab import drive\n",
        "drive.mount('/content/drive') "
      ]
    },
    {
      "cell_type": "code",
      "source": [
        "import pandas as pd \n",
        "data=pd.read_csv(\n",
        "'drive/My Drive/fake news detection/train.csv')"
      ],
      "metadata": {
        "id": "rw0kltMOBGnV"
      },
      "execution_count": 2,
      "outputs": []
    },
    {
      "cell_type": "code",
      "source": [
        "data.head()"
      ],
      "metadata": {
        "colab": {
          "base_uri": "https://localhost:8080/",
          "height": 206
        },
        "id": "gt_ca46GCKOY",
        "outputId": "d5ec04f1-6b0b-489d-e492-47b717453e63"
      },
      "execution_count": 46,
      "outputs": [
        {
          "output_type": "execute_result",
          "data": {
            "text/html": [
              "\n",
              "  <div id=\"df-88b9d8e8-d916-4a98-85e3-474d10a05f76\">\n",
              "    <div class=\"colab-df-container\">\n",
              "      <div>\n",
              "<style scoped>\n",
              "    .dataframe tbody tr th:only-of-type {\n",
              "        vertical-align: middle;\n",
              "    }\n",
              "\n",
              "    .dataframe tbody tr th {\n",
              "        vertical-align: top;\n",
              "    }\n",
              "\n",
              "    .dataframe thead th {\n",
              "        text-align: right;\n",
              "    }\n",
              "</style>\n",
              "<table border=\"1\" class=\"dataframe\">\n",
              "  <thead>\n",
              "    <tr style=\"text-align: right;\">\n",
              "      <th></th>\n",
              "      <th>id</th>\n",
              "      <th>title</th>\n",
              "      <th>author</th>\n",
              "      <th>text</th>\n",
              "      <th>label</th>\n",
              "      <th>content</th>\n",
              "    </tr>\n",
              "  </thead>\n",
              "  <tbody>\n",
              "    <tr>\n",
              "      <th>0</th>\n",
              "      <td>0</td>\n",
              "      <td>House Dem Aide: We Didn’t Even See Comey’s Let...</td>\n",
              "      <td>Darrell Lucus</td>\n",
              "      <td>House Dem Aide: We Didn’t Even See Comey’s Let...</td>\n",
              "      <td>1</td>\n",
              "      <td>darrel lucushous dem aid even see comey letter...</td>\n",
              "    </tr>\n",
              "    <tr>\n",
              "      <th>1</th>\n",
              "      <td>1</td>\n",
              "      <td>FLYNN: Hillary Clinton, Big Woman on Campus - ...</td>\n",
              "      <td>Daniel J. Flynn</td>\n",
              "      <td>Ever get the feeling your life circles the rou...</td>\n",
              "      <td>0</td>\n",
              "      <td>daniel j flynnflynn hillari clinton big woman ...</td>\n",
              "    </tr>\n",
              "    <tr>\n",
              "      <th>2</th>\n",
              "      <td>2</td>\n",
              "      <td>Why the Truth Might Get You Fired</td>\n",
              "      <td>Consortiumnews.com</td>\n",
              "      <td>Why the Truth Might Get You Fired October 29, ...</td>\n",
              "      <td>1</td>\n",
              "      <td>consortiumnew comwhi truth might get fire</td>\n",
              "    </tr>\n",
              "    <tr>\n",
              "      <th>3</th>\n",
              "      <td>3</td>\n",
              "      <td>15 Civilians Killed In Single US Airstrike Hav...</td>\n",
              "      <td>Jessica Purkiss</td>\n",
              "      <td>Videos 15 Civilians Killed In Single US Airstr...</td>\n",
              "      <td>1</td>\n",
              "      <td>jessica purkiss civilian kill singl us airstri...</td>\n",
              "    </tr>\n",
              "    <tr>\n",
              "      <th>4</th>\n",
              "      <td>4</td>\n",
              "      <td>Iranian woman jailed for fictional unpublished...</td>\n",
              "      <td>Howard Portnoy</td>\n",
              "      <td>Print \\nAn Iranian woman has been sentenced to...</td>\n",
              "      <td>1</td>\n",
              "      <td>howard portnoyiranian woman jail fiction unpub...</td>\n",
              "    </tr>\n",
              "  </tbody>\n",
              "</table>\n",
              "</div>\n",
              "      <button class=\"colab-df-convert\" onclick=\"convertToInteractive('df-88b9d8e8-d916-4a98-85e3-474d10a05f76')\"\n",
              "              title=\"Convert this dataframe to an interactive table.\"\n",
              "              style=\"display:none;\">\n",
              "        \n",
              "  <svg xmlns=\"http://www.w3.org/2000/svg\" height=\"24px\"viewBox=\"0 0 24 24\"\n",
              "       width=\"24px\">\n",
              "    <path d=\"M0 0h24v24H0V0z\" fill=\"none\"/>\n",
              "    <path d=\"M18.56 5.44l.94 2.06.94-2.06 2.06-.94-2.06-.94-.94-2.06-.94 2.06-2.06.94zm-11 1L8.5 8.5l.94-2.06 2.06-.94-2.06-.94L8.5 2.5l-.94 2.06-2.06.94zm10 10l.94 2.06.94-2.06 2.06-.94-2.06-.94-.94-2.06-.94 2.06-2.06.94z\"/><path d=\"M17.41 7.96l-1.37-1.37c-.4-.4-.92-.59-1.43-.59-.52 0-1.04.2-1.43.59L10.3 9.45l-7.72 7.72c-.78.78-.78 2.05 0 2.83L4 21.41c.39.39.9.59 1.41.59.51 0 1.02-.2 1.41-.59l7.78-7.78 2.81-2.81c.8-.78.8-2.07 0-2.86zM5.41 20L4 18.59l7.72-7.72 1.47 1.35L5.41 20z\"/>\n",
              "  </svg>\n",
              "      </button>\n",
              "      \n",
              "  <style>\n",
              "    .colab-df-container {\n",
              "      display:flex;\n",
              "      flex-wrap:wrap;\n",
              "      gap: 12px;\n",
              "    }\n",
              "\n",
              "    .colab-df-convert {\n",
              "      background-color: #E8F0FE;\n",
              "      border: none;\n",
              "      border-radius: 50%;\n",
              "      cursor: pointer;\n",
              "      display: none;\n",
              "      fill: #1967D2;\n",
              "      height: 32px;\n",
              "      padding: 0 0 0 0;\n",
              "      width: 32px;\n",
              "    }\n",
              "\n",
              "    .colab-df-convert:hover {\n",
              "      background-color: #E2EBFA;\n",
              "      box-shadow: 0px 1px 2px rgba(60, 64, 67, 0.3), 0px 1px 3px 1px rgba(60, 64, 67, 0.15);\n",
              "      fill: #174EA6;\n",
              "    }\n",
              "\n",
              "    [theme=dark] .colab-df-convert {\n",
              "      background-color: #3B4455;\n",
              "      fill: #D2E3FC;\n",
              "    }\n",
              "\n",
              "    [theme=dark] .colab-df-convert:hover {\n",
              "      background-color: #434B5C;\n",
              "      box-shadow: 0px 1px 3px 1px rgba(0, 0, 0, 0.15);\n",
              "      filter: drop-shadow(0px 1px 2px rgba(0, 0, 0, 0.3));\n",
              "      fill: #FFFFFF;\n",
              "    }\n",
              "  </style>\n",
              "\n",
              "      <script>\n",
              "        const buttonEl =\n",
              "          document.querySelector('#df-88b9d8e8-d916-4a98-85e3-474d10a05f76 button.colab-df-convert');\n",
              "        buttonEl.style.display =\n",
              "          google.colab.kernel.accessAllowed ? 'block' : 'none';\n",
              "\n",
              "        async function convertToInteractive(key) {\n",
              "          const element = document.querySelector('#df-88b9d8e8-d916-4a98-85e3-474d10a05f76');\n",
              "          const dataTable =\n",
              "            await google.colab.kernel.invokeFunction('convertToInteractive',\n",
              "                                                     [key], {});\n",
              "          if (!dataTable) return;\n",
              "\n",
              "          const docLinkHtml = 'Like what you see? Visit the ' +\n",
              "            '<a target=\"_blank\" href=https://colab.research.google.com/notebooks/data_table.ipynb>data table notebook</a>'\n",
              "            + ' to learn more about interactive tables.';\n",
              "          element.innerHTML = '';\n",
              "          dataTable['output_type'] = 'display_data';\n",
              "          await google.colab.output.renderOutput(dataTable, element);\n",
              "          const docLink = document.createElement('div');\n",
              "          docLink.innerHTML = docLinkHtml;\n",
              "          element.appendChild(docLink);\n",
              "        }\n",
              "      </script>\n",
              "    </div>\n",
              "  </div>\n",
              "  "
            ],
            "text/plain": [
              "   id  ...                                            content\n",
              "0   0  ...  darrel lucushous dem aid even see comey letter...\n",
              "1   1  ...  daniel j flynnflynn hillari clinton big woman ...\n",
              "2   2  ...          consortiumnew comwhi truth might get fire\n",
              "3   3  ...  jessica purkiss civilian kill singl us airstri...\n",
              "4   4  ...  howard portnoyiranian woman jail fiction unpub...\n",
              "\n",
              "[5 rows x 6 columns]"
            ]
          },
          "metadata": {},
          "execution_count": 46
        }
      ]
    },
    {
      "cell_type": "code",
      "source": [
        "import nltk \n",
        "nltk.download('stopwords')"
      ],
      "metadata": {
        "colab": {
          "base_uri": "https://localhost:8080/"
        },
        "id": "2rxEk_oSEVdM",
        "outputId": "73614478-1411-4047-f451-c292a7e2fa3d"
      },
      "execution_count": 4,
      "outputs": [
        {
          "output_type": "stream",
          "name": "stdout",
          "text": [
            "[nltk_data] Downloading package stopwords to /root/nltk_data...\n",
            "[nltk_data]   Unzipping corpora/stopwords.zip.\n"
          ]
        },
        {
          "output_type": "execute_result",
          "data": {
            "text/plain": [
              "True"
            ]
          },
          "metadata": {},
          "execution_count": 4
        }
      ]
    },
    {
      "cell_type": "code",
      "source": [
        "from nltk.corpus import stopwords\n",
        "print(stopwords.words('english'))"
      ],
      "metadata": {
        "colab": {
          "base_uri": "https://localhost:8080/"
        },
        "id": "gkPoQ_38F-Ye",
        "outputId": "815311a0-a19d-45df-ce0e-ff24c82ad6d4"
      },
      "execution_count": 5,
      "outputs": [
        {
          "output_type": "stream",
          "name": "stdout",
          "text": [
            "['i', 'me', 'my', 'myself', 'we', 'our', 'ours', 'ourselves', 'you', \"you're\", \"you've\", \"you'll\", \"you'd\", 'your', 'yours', 'yourself', 'yourselves', 'he', 'him', 'his', 'himself', 'she', \"she's\", 'her', 'hers', 'herself', 'it', \"it's\", 'its', 'itself', 'they', 'them', 'their', 'theirs', 'themselves', 'what', 'which', 'who', 'whom', 'this', 'that', \"that'll\", 'these', 'those', 'am', 'is', 'are', 'was', 'were', 'be', 'been', 'being', 'have', 'has', 'had', 'having', 'do', 'does', 'did', 'doing', 'a', 'an', 'the', 'and', 'but', 'if', 'or', 'because', 'as', 'until', 'while', 'of', 'at', 'by', 'for', 'with', 'about', 'against', 'between', 'into', 'through', 'during', 'before', 'after', 'above', 'below', 'to', 'from', 'up', 'down', 'in', 'out', 'on', 'off', 'over', 'under', 'again', 'further', 'then', 'once', 'here', 'there', 'when', 'where', 'why', 'how', 'all', 'any', 'both', 'each', 'few', 'more', 'most', 'other', 'some', 'such', 'no', 'nor', 'not', 'only', 'own', 'same', 'so', 'than', 'too', 'very', 's', 't', 'can', 'will', 'just', 'don', \"don't\", 'should', \"should've\", 'now', 'd', 'll', 'm', 'o', 're', 've', 'y', 'ain', 'aren', \"aren't\", 'couldn', \"couldn't\", 'didn', \"didn't\", 'doesn', \"doesn't\", 'hadn', \"hadn't\", 'hasn', \"hasn't\", 'haven', \"haven't\", 'isn', \"isn't\", 'ma', 'mightn', \"mightn't\", 'mustn', \"mustn't\", 'needn', \"needn't\", 'shan', \"shan't\", 'shouldn', \"shouldn't\", 'wasn', \"wasn't\", 'weren', \"weren't\", 'won', \"won't\", 'wouldn', \"wouldn't\"]\n"
          ]
        }
      ]
    },
    {
      "cell_type": "code",
      "source": [
        "data.isnull().sum()"
      ],
      "metadata": {
        "colab": {
          "base_uri": "https://localhost:8080/"
        },
        "id": "xlQmPgQ2GWHq",
        "outputId": "31368dbc-8732-46e6-84dc-b5cf9cfe34c6"
      },
      "execution_count": 6,
      "outputs": [
        {
          "output_type": "execute_result",
          "data": {
            "text/plain": [
              "id           0\n",
              "title      558\n",
              "author    1957\n",
              "text        39\n",
              "label        0\n",
              "dtype: int64"
            ]
          },
          "metadata": {},
          "execution_count": 6
        }
      ]
    },
    {
      "cell_type": "code",
      "source": [
        "data = data.fillna('')"
      ],
      "metadata": {
        "id": "B2RpSapdPcB0"
      },
      "execution_count": 7,
      "outputs": []
    },
    {
      "cell_type": "code",
      "source": [
        "data['content']=data['author']+data['title']"
      ],
      "metadata": {
        "id": "wPll-I1jPgEK"
      },
      "execution_count": 8,
      "outputs": []
    },
    {
      "cell_type": "code",
      "source": [
        "y=data['label']\n",
        "data.drop(columns='label',axis=1)"
      ],
      "metadata": {
        "colab": {
          "base_uri": "https://localhost:8080/",
          "height": 520
        },
        "id": "wEaS-ah6o7u7",
        "outputId": "c3b539f0-7957-4e45-f5f7-f05014bbad5a"
      },
      "execution_count": 47,
      "outputs": [
        {
          "output_type": "execute_result",
          "data": {
            "text/html": [
              "\n",
              "  <div id=\"df-113c01ca-3a9c-4926-857f-94fae4483303\">\n",
              "    <div class=\"colab-df-container\">\n",
              "      <div>\n",
              "<style scoped>\n",
              "    .dataframe tbody tr th:only-of-type {\n",
              "        vertical-align: middle;\n",
              "    }\n",
              "\n",
              "    .dataframe tbody tr th {\n",
              "        vertical-align: top;\n",
              "    }\n",
              "\n",
              "    .dataframe thead th {\n",
              "        text-align: right;\n",
              "    }\n",
              "</style>\n",
              "<table border=\"1\" class=\"dataframe\">\n",
              "  <thead>\n",
              "    <tr style=\"text-align: right;\">\n",
              "      <th></th>\n",
              "      <th>id</th>\n",
              "      <th>title</th>\n",
              "      <th>author</th>\n",
              "      <th>text</th>\n",
              "      <th>content</th>\n",
              "    </tr>\n",
              "  </thead>\n",
              "  <tbody>\n",
              "    <tr>\n",
              "      <th>0</th>\n",
              "      <td>0</td>\n",
              "      <td>House Dem Aide: We Didn’t Even See Comey’s Let...</td>\n",
              "      <td>Darrell Lucus</td>\n",
              "      <td>House Dem Aide: We Didn’t Even See Comey’s Let...</td>\n",
              "      <td>darrel lucushous dem aid even see comey letter...</td>\n",
              "    </tr>\n",
              "    <tr>\n",
              "      <th>1</th>\n",
              "      <td>1</td>\n",
              "      <td>FLYNN: Hillary Clinton, Big Woman on Campus - ...</td>\n",
              "      <td>Daniel J. Flynn</td>\n",
              "      <td>Ever get the feeling your life circles the rou...</td>\n",
              "      <td>daniel j flynnflynn hillari clinton big woman ...</td>\n",
              "    </tr>\n",
              "    <tr>\n",
              "      <th>2</th>\n",
              "      <td>2</td>\n",
              "      <td>Why the Truth Might Get You Fired</td>\n",
              "      <td>Consortiumnews.com</td>\n",
              "      <td>Why the Truth Might Get You Fired October 29, ...</td>\n",
              "      <td>consortiumnew comwhi truth might get fire</td>\n",
              "    </tr>\n",
              "    <tr>\n",
              "      <th>3</th>\n",
              "      <td>3</td>\n",
              "      <td>15 Civilians Killed In Single US Airstrike Hav...</td>\n",
              "      <td>Jessica Purkiss</td>\n",
              "      <td>Videos 15 Civilians Killed In Single US Airstr...</td>\n",
              "      <td>jessica purkiss civilian kill singl us airstri...</td>\n",
              "    </tr>\n",
              "    <tr>\n",
              "      <th>4</th>\n",
              "      <td>4</td>\n",
              "      <td>Iranian woman jailed for fictional unpublished...</td>\n",
              "      <td>Howard Portnoy</td>\n",
              "      <td>Print \\nAn Iranian woman has been sentenced to...</td>\n",
              "      <td>howard portnoyiranian woman jail fiction unpub...</td>\n",
              "    </tr>\n",
              "    <tr>\n",
              "      <th>...</th>\n",
              "      <td>...</td>\n",
              "      <td>...</td>\n",
              "      <td>...</td>\n",
              "      <td>...</td>\n",
              "      <td>...</td>\n",
              "    </tr>\n",
              "    <tr>\n",
              "      <th>20795</th>\n",
              "      <td>20795</td>\n",
              "      <td>Rapper T.I.: Trump a ’Poster Child For White S...</td>\n",
              "      <td>Jerome Hudson</td>\n",
              "      <td>Rapper T. I. unloaded on black celebrities who...</td>\n",
              "      <td>jerom hudsonrapp trump poster child white supr...</td>\n",
              "    </tr>\n",
              "    <tr>\n",
              "      <th>20796</th>\n",
              "      <td>20796</td>\n",
              "      <td>N.F.L. Playoffs: Schedule, Matchups and Odds -...</td>\n",
              "      <td>Benjamin Hoffman</td>\n",
              "      <td>When the Green Bay Packers lost to the Washing...</td>\n",
              "      <td>benjamin hoffmann f l playoff schedul matchup ...</td>\n",
              "    </tr>\n",
              "    <tr>\n",
              "      <th>20797</th>\n",
              "      <td>20797</td>\n",
              "      <td>Macy’s Is Said to Receive Takeover Approach by...</td>\n",
              "      <td>Michael J. de la Merced and Rachel Abrams</td>\n",
              "      <td>The Macy’s of today grew from the union of sev...</td>\n",
              "      <td>michael j de la merc rachel abramsmaci said re...</td>\n",
              "    </tr>\n",
              "    <tr>\n",
              "      <th>20798</th>\n",
              "      <td>20798</td>\n",
              "      <td>NATO, Russia To Hold Parallel Exercises In Bal...</td>\n",
              "      <td>Alex Ansary</td>\n",
              "      <td>NATO, Russia To Hold Parallel Exercises In Bal...</td>\n",
              "      <td>alex ansarynato russia hold parallel exercis b...</td>\n",
              "    </tr>\n",
              "    <tr>\n",
              "      <th>20799</th>\n",
              "      <td>20799</td>\n",
              "      <td>What Keeps the F-35 Alive</td>\n",
              "      <td>David Swanson</td>\n",
              "      <td>David Swanson is an author, activist, journa...</td>\n",
              "      <td>david swansonwhat keep f aliv</td>\n",
              "    </tr>\n",
              "  </tbody>\n",
              "</table>\n",
              "<p>20800 rows × 5 columns</p>\n",
              "</div>\n",
              "      <button class=\"colab-df-convert\" onclick=\"convertToInteractive('df-113c01ca-3a9c-4926-857f-94fae4483303')\"\n",
              "              title=\"Convert this dataframe to an interactive table.\"\n",
              "              style=\"display:none;\">\n",
              "        \n",
              "  <svg xmlns=\"http://www.w3.org/2000/svg\" height=\"24px\"viewBox=\"0 0 24 24\"\n",
              "       width=\"24px\">\n",
              "    <path d=\"M0 0h24v24H0V0z\" fill=\"none\"/>\n",
              "    <path d=\"M18.56 5.44l.94 2.06.94-2.06 2.06-.94-2.06-.94-.94-2.06-.94 2.06-2.06.94zm-11 1L8.5 8.5l.94-2.06 2.06-.94-2.06-.94L8.5 2.5l-.94 2.06-2.06.94zm10 10l.94 2.06.94-2.06 2.06-.94-2.06-.94-.94-2.06-.94 2.06-2.06.94z\"/><path d=\"M17.41 7.96l-1.37-1.37c-.4-.4-.92-.59-1.43-.59-.52 0-1.04.2-1.43.59L10.3 9.45l-7.72 7.72c-.78.78-.78 2.05 0 2.83L4 21.41c.39.39.9.59 1.41.59.51 0 1.02-.2 1.41-.59l7.78-7.78 2.81-2.81c.8-.78.8-2.07 0-2.86zM5.41 20L4 18.59l7.72-7.72 1.47 1.35L5.41 20z\"/>\n",
              "  </svg>\n",
              "      </button>\n",
              "      \n",
              "  <style>\n",
              "    .colab-df-container {\n",
              "      display:flex;\n",
              "      flex-wrap:wrap;\n",
              "      gap: 12px;\n",
              "    }\n",
              "\n",
              "    .colab-df-convert {\n",
              "      background-color: #E8F0FE;\n",
              "      border: none;\n",
              "      border-radius: 50%;\n",
              "      cursor: pointer;\n",
              "      display: none;\n",
              "      fill: #1967D2;\n",
              "      height: 32px;\n",
              "      padding: 0 0 0 0;\n",
              "      width: 32px;\n",
              "    }\n",
              "\n",
              "    .colab-df-convert:hover {\n",
              "      background-color: #E2EBFA;\n",
              "      box-shadow: 0px 1px 2px rgba(60, 64, 67, 0.3), 0px 1px 3px 1px rgba(60, 64, 67, 0.15);\n",
              "      fill: #174EA6;\n",
              "    }\n",
              "\n",
              "    [theme=dark] .colab-df-convert {\n",
              "      background-color: #3B4455;\n",
              "      fill: #D2E3FC;\n",
              "    }\n",
              "\n",
              "    [theme=dark] .colab-df-convert:hover {\n",
              "      background-color: #434B5C;\n",
              "      box-shadow: 0px 1px 3px 1px rgba(0, 0, 0, 0.15);\n",
              "      filter: drop-shadow(0px 1px 2px rgba(0, 0, 0, 0.3));\n",
              "      fill: #FFFFFF;\n",
              "    }\n",
              "  </style>\n",
              "\n",
              "      <script>\n",
              "        const buttonEl =\n",
              "          document.querySelector('#df-113c01ca-3a9c-4926-857f-94fae4483303 button.colab-df-convert');\n",
              "        buttonEl.style.display =\n",
              "          google.colab.kernel.accessAllowed ? 'block' : 'none';\n",
              "\n",
              "        async function convertToInteractive(key) {\n",
              "          const element = document.querySelector('#df-113c01ca-3a9c-4926-857f-94fae4483303');\n",
              "          const dataTable =\n",
              "            await google.colab.kernel.invokeFunction('convertToInteractive',\n",
              "                                                     [key], {});\n",
              "          if (!dataTable) return;\n",
              "\n",
              "          const docLinkHtml = 'Like what you see? Visit the ' +\n",
              "            '<a target=\"_blank\" href=https://colab.research.google.com/notebooks/data_table.ipynb>data table notebook</a>'\n",
              "            + ' to learn more about interactive tables.';\n",
              "          element.innerHTML = '';\n",
              "          dataTable['output_type'] = 'display_data';\n",
              "          await google.colab.output.renderOutput(dataTable, element);\n",
              "          const docLink = document.createElement('div');\n",
              "          docLink.innerHTML = docLinkHtml;\n",
              "          element.appendChild(docLink);\n",
              "        }\n",
              "      </script>\n",
              "    </div>\n",
              "  </div>\n",
              "  "
            ],
            "text/plain": [
              "          id  ...                                            content\n",
              "0          0  ...  darrel lucushous dem aid even see comey letter...\n",
              "1          1  ...  daniel j flynnflynn hillari clinton big woman ...\n",
              "2          2  ...          consortiumnew comwhi truth might get fire\n",
              "3          3  ...  jessica purkiss civilian kill singl us airstri...\n",
              "4          4  ...  howard portnoyiranian woman jail fiction unpub...\n",
              "...      ...  ...                                                ...\n",
              "20795  20795  ...  jerom hudsonrapp trump poster child white supr...\n",
              "20796  20796  ...  benjamin hoffmann f l playoff schedul matchup ...\n",
              "20797  20797  ...  michael j de la merc rachel abramsmaci said re...\n",
              "20798  20798  ...  alex ansarynato russia hold parallel exercis b...\n",
              "20799  20799  ...                      david swansonwhat keep f aliv\n",
              "\n",
              "[20800 rows x 5 columns]"
            ]
          },
          "metadata": {},
          "execution_count": 47
        }
      ]
    },
    {
      "cell_type": "code",
      "source": [
        "#stemming \n",
        "port_stem = PorterStemmer()\n",
        "def stemming(content):\n",
        "    stemmed_content = re.sub('[^a-zA-Z]',' ',content)\n",
        "    stemmed_content = stemmed_content.lower()\n",
        "    stemmed_content = stemmed_content.split()\n",
        "    stemmed_content = [port_stem.stem(word) for word in stemmed_content if not word in stopwords.words('english')]\n",
        "    stemmed_content = ' '.join(stemmed_content)\n",
        "    return stemmed_content"
      ],
      "metadata": {
        "id": "S2UgHwqctO0j"
      },
      "execution_count": 12,
      "outputs": []
    },
    {
      "cell_type": "code",
      "source": [
        "import re\n",
        "from nltk.corpus import stopwords\n",
        "from nltk.stem.porter import PorterStemmer\n",
        "from sklearn.feature_extraction.text import TfidfVectorizer\n",
        "from sklearn.model_selection import train_test_split"
      ],
      "metadata": {
        "id": "4ykRjH4qEgNq"
      },
      "execution_count": 11,
      "outputs": []
    },
    {
      "cell_type": "code",
      "source": [
        "data['content']=data['content'].apply(stemming)"
      ],
      "metadata": {
        "id": "csslHqkvC4VH"
      },
      "execution_count": 13,
      "outputs": []
    },
    {
      "cell_type": "code",
      "source": [
        "X=data['content'].values\n",
        "print(X)"
      ],
      "metadata": {
        "colab": {
          "base_uri": "https://localhost:8080/"
        },
        "id": "auQIU_k2E4Ec",
        "outputId": "8b4f09a3-b4e1-42e9-ccdd-bf11bc7c8777"
      },
      "execution_count": 44,
      "outputs": [
        {
          "output_type": "stream",
          "name": "stdout",
          "text": [
            "['darrel lucushous dem aid even see comey letter jason chaffetz tweet'\n",
            " 'daniel j flynnflynn hillari clinton big woman campu breitbart'\n",
            " 'consortiumnew comwhi truth might get fire' ...\n",
            " 'michael j de la merc rachel abramsmaci said receiv takeov approach hudson bay new york time'\n",
            " 'alex ansarynato russia hold parallel exercis balkan'\n",
            " 'david swansonwhat keep f aliv']\n"
          ]
        }
      ]
    },
    {
      "cell_type": "code",
      "source": [
        "y=y.values\n",
        "print(y)"
      ],
      "metadata": {
        "colab": {
          "base_uri": "https://localhost:8080/"
        },
        "id": "j43P6Nr5Df76",
        "outputId": "5462bbd0-30bc-406e-c894-b0bc0759fcaf"
      },
      "execution_count": 48,
      "outputs": [
        {
          "output_type": "stream",
          "name": "stdout",
          "text": [
            "[1 0 1 ... 0 1 1]\n"
          ]
        }
      ]
    },
    {
      "cell_type": "code",
      "source": [
        "vectorizer=TfidfVectorizer()"
      ],
      "metadata": {
        "id": "ba6mLY3uDmp3"
      },
      "execution_count": 19,
      "outputs": []
    },
    {
      "cell_type": "code",
      "source": [
        "vectorizer.fit(X)\n",
        "X=vectorizer.transform (X)\n",
        "print(X)"
      ],
      "metadata": {
        "colab": {
          "base_uri": "https://localhost:8080/"
        },
        "id": "XKwoXk-SEO6b",
        "outputId": "3f5e2668-e167-442d-dc7c-50d2d7297497"
      },
      "execution_count": 49,
      "outputs": [
        {
          "output_type": "stream",
          "name": "stdout",
          "text": [
            "  (0, 26340)\t0.28088379401596425\n",
            "  (0, 22724)\t0.2552336018069161\n",
            "  (0, 15019)\t0.43006226759639316\n",
            "  (0, 14555)\t0.29177259684200296\n",
            "  (0, 12782)\t0.24619727512767195\n",
            "  (0, 8022)\t0.23133661742488731\n",
            "  (0, 6273)\t0.2839932825877813\n",
            "  (0, 5969)\t0.35488202138141456\n",
            "  (0, 5006)\t0.2472595823572816\n",
            "  (0, 4211)\t0.3625320323150658\n",
            "  (0, 578)\t0.2694167078545385\n",
            "  (1, 27923)\t0.36911845953845024\n",
            "  (1, 11313)\t0.24166773097712638\n",
            "  (1, 8772)\t0.5258635625386451\n",
            "  (1, 5916)\t0.31810058109638056\n",
            "  (1, 4767)\t0.23338756776626793\n",
            "  (1, 3859)\t0.45980466668763476\n",
            "  (1, 3281)\t0.18652439327549428\n",
            "  (1, 2622)\t0.3562953366945267\n",
            "  (2, 26235)\t0.3665032495181434\n",
            "  (2, 16361)\t0.43295215406038445\n",
            "  (2, 9454)\t0.30743020569262086\n",
            "  (2, 8567)\t0.3411947414020896\n",
            "  (2, 5240)\t0.40440534260277944\n",
            "  (2, 5121)\t0.5511414848555652\n",
            "  :\t:\n",
            "  (20797, 25776)\t0.08220218573989037\n",
            "  (20797, 25319)\t0.3119640221826561\n",
            "  (20797, 22086)\t0.24902354987792552\n",
            "  (20797, 20778)\t0.2729578683228216\n",
            "  (20797, 20493)\t0.249994989010826\n",
            "  (20797, 17505)\t0.08090456115716123\n",
            "  (20797, 16315)\t0.1785200594251359\n",
            "  (20797, 16217)\t0.3273246827604847\n",
            "  (20797, 14104)\t0.22761807337911874\n",
            "  (20797, 11692)\t0.2992170910232368\n",
            "  (20797, 6088)\t0.21253094503918346\n",
            "  (20797, 2257)\t0.3357782642976524\n",
            "  (20797, 1249)\t0.3072223353708335\n",
            "  (20797, 72)\t0.38829670969848273\n",
            "  (20798, 21937)\t0.2284042880065583\n",
            "  (20798, 18760)\t0.43981843518920394\n",
            "  (20798, 11434)\t0.3219420705942853\n",
            "  (20798, 8095)\t0.40266358130888547\n",
            "  (20798, 1921)\t0.43981843518920394\n",
            "  (20798, 1081)\t0.4638903157542853\n",
            "  (20798, 697)\t0.2827933658592677\n",
            "  (20799, 25148)\t0.6713314187498636\n",
            "  (20799, 13329)\t0.4138037375613909\n",
            "  (20799, 6018)\t0.345590335823275\n",
            "  (20799, 732)\t0.5085743925573473\n"
          ]
        }
      ]
    },
    {
      "cell_type": "code",
      "source": [
        "y.shape"
      ],
      "metadata": {
        "colab": {
          "base_uri": "https://localhost:8080/"
        },
        "id": "3OE7fQ-wFAXo",
        "outputId": "5caae3b0-6d56-421b-a2c3-b5aaf11e4442"
      },
      "execution_count": 50,
      "outputs": [
        {
          "output_type": "execute_result",
          "data": {
            "text/plain": [
              "(20800,)"
            ]
          },
          "metadata": {},
          "execution_count": 50
        }
      ]
    },
    {
      "cell_type": "code",
      "source": [
        "print(X)"
      ],
      "metadata": {
        "colab": {
          "base_uri": "https://localhost:8080/"
        },
        "id": "py10JCZqGThK",
        "outputId": "1d11212d-4c98-4eba-f1bf-ecc863f8feab"
      },
      "execution_count": 43,
      "outputs": [
        {
          "output_type": "stream",
          "name": "stdout",
          "text": [
            "  (0, 26340)\t0.28088379401596425\n",
            "  (0, 22724)\t0.2552336018069161\n",
            "  (0, 15019)\t0.43006226759639316\n",
            "  (0, 14555)\t0.29177259684200296\n",
            "  (0, 12782)\t0.24619727512767195\n",
            "  (0, 8022)\t0.23133661742488731\n",
            "  (0, 6273)\t0.2839932825877813\n",
            "  (0, 5969)\t0.35488202138141456\n",
            "  (0, 5006)\t0.2472595823572816\n",
            "  (0, 4211)\t0.3625320323150658\n",
            "  (0, 578)\t0.2694167078545385\n",
            "  (1, 27923)\t0.36911845953845024\n",
            "  (1, 11313)\t0.24166773097712638\n",
            "  (1, 8772)\t0.5258635625386451\n",
            "  (1, 5916)\t0.31810058109638056\n",
            "  (1, 4767)\t0.23338756776626793\n",
            "  (1, 3859)\t0.45980466668763476\n",
            "  (1, 3281)\t0.18652439327549428\n",
            "  (1, 2622)\t0.3562953366945267\n",
            "  (2, 26235)\t0.3665032495181434\n",
            "  (2, 16361)\t0.43295215406038445\n",
            "  (2, 9454)\t0.30743020569262086\n",
            "  (2, 8567)\t0.3411947414020896\n",
            "  (2, 5240)\t0.40440534260277944\n",
            "  (2, 5121)\t0.5511414848555652\n",
            "  :\t:\n",
            "  (20797, 25776)\t0.08220218573989037\n",
            "  (20797, 25319)\t0.3119640221826561\n",
            "  (20797, 22086)\t0.24902354987792552\n",
            "  (20797, 20778)\t0.2729578683228216\n",
            "  (20797, 20493)\t0.249994989010826\n",
            "  (20797, 17505)\t0.08090456115716123\n",
            "  (20797, 16315)\t0.1785200594251359\n",
            "  (20797, 16217)\t0.3273246827604847\n",
            "  (20797, 14104)\t0.22761807337911874\n",
            "  (20797, 11692)\t0.2992170910232368\n",
            "  (20797, 6088)\t0.21253094503918346\n",
            "  (20797, 2257)\t0.3357782642976524\n",
            "  (20797, 1249)\t0.3072223353708335\n",
            "  (20797, 72)\t0.38829670969848273\n",
            "  (20798, 21937)\t0.2284042880065583\n",
            "  (20798, 18760)\t0.43981843518920394\n",
            "  (20798, 11434)\t0.3219420705942853\n",
            "  (20798, 8095)\t0.40266358130888547\n",
            "  (20798, 1921)\t0.43981843518920394\n",
            "  (20798, 1081)\t0.4638903157542853\n",
            "  (20798, 697)\t0.2827933658592677\n",
            "  (20799, 25148)\t0.6713314187498636\n",
            "  (20799, 13329)\t0.4138037375613909\n",
            "  (20799, 6018)\t0.345590335823275\n",
            "  (20799, 732)\t0.5085743925573473\n"
          ]
        }
      ]
    },
    {
      "cell_type": "code",
      "source": [
        "X_train, X_test, Y_train, Y_test = train_test_split(X, y, test_size = 0.2, stratify=y, random_state=2)\n"
      ],
      "metadata": {
        "id": "21o6clXAFemm"
      },
      "execution_count": 51,
      "outputs": []
    },
    {
      "cell_type": "code",
      "source": [
        "from sklearn.ensemble import RandomForestClassifier\n",
        "model=RandomForestClassifier()"
      ],
      "metadata": {
        "id": "0qJjJxnqGq2o"
      },
      "execution_count": 54,
      "outputs": []
    },
    {
      "cell_type": "code",
      "source": [
        "model.fit(X_train,Y_train)"
      ],
      "metadata": {
        "colab": {
          "base_uri": "https://localhost:8080/"
        },
        "id": "pX_6tKYTH_sg",
        "outputId": "5dc5ebcc-cb32-41dd-e07e-a1f5bd91e654"
      },
      "execution_count": 55,
      "outputs": [
        {
          "output_type": "execute_result",
          "data": {
            "text/plain": [
              "RandomForestClassifier()"
            ]
          },
          "metadata": {},
          "execution_count": 55
        }
      ]
    },
    {
      "cell_type": "code",
      "source": [
        "from sklearn.metrics import accuracy_score\n",
        "y_prediction=model.predict(X_test)\n",
        "accuracy=accuracy_score(Y_test,y_prediction)"
      ],
      "metadata": {
        "id": "bEAetkmPIMYM"
      },
      "execution_count": 57,
      "outputs": []
    },
    {
      "cell_type": "code",
      "source": [
        "print(accuracy)"
      ],
      "metadata": {
        "colab": {
          "base_uri": "https://localhost:8080/"
        },
        "id": "ngDVtSB_IqEs",
        "outputId": "2668bad2-55b2-4e6a-b093-a9bca7f3e5ae"
      },
      "execution_count": 58,
      "outputs": [
        {
          "output_type": "stream",
          "name": "stdout",
          "text": [
            "0.9766826923076923\n"
          ]
        }
      ]
    },
    {
      "cell_type": "code",
      "source": [
        "print(y_prediction)"
      ],
      "metadata": {
        "colab": {
          "base_uri": "https://localhost:8080/"
        },
        "id": "nlqOtsxCI3U3",
        "outputId": "3798ea25-7fa7-486c-e491-cb8eefd15451"
      },
      "execution_count": 59,
      "outputs": [
        {
          "output_type": "stream",
          "name": "stdout",
          "text": [
            "[1 0 1 ... 1 1 0]\n"
          ]
        }
      ]
    },
    {
      "cell_type": "code",
      "source": [
        "if y_prediction[0]==0:\n",
        "  print('the news are real')\n",
        "else:\n",
        "  print('the news are fake ')"
      ],
      "metadata": {
        "colab": {
          "base_uri": "https://localhost:8080/"
        },
        "id": "q-42tpInJHVR",
        "outputId": "9abb9525-f05d-4699-89f1-8c76c836c602"
      },
      "execution_count": 60,
      "outputs": [
        {
          "output_type": "stream",
          "name": "stdout",
          "text": [
            "the news are fake \n"
          ]
        }
      ]
    },
    {
      "cell_type": "code",
      "source": [
        ""
      ],
      "metadata": {
        "id": "xet6pRPhJW7E"
      },
      "execution_count": null,
      "outputs": []
    }
  ]
}